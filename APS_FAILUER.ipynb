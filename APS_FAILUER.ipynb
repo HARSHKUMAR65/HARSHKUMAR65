{
 "cells": [
  {
   "cell_type": "markdown",
   "id": "836b00b9",
   "metadata": {},
   "source": [
    "# APS failure predictions\n",
    "this task is a device to prediction model for judging whether a vehicle failure of APS system"
   ]
  },
  {
   "cell_type": "code",
   "execution_count": 15,
   "id": "1e433dd9",
   "metadata": {},
   "outputs": [],
   "source": [
    "#import library\n",
    "import pandas as pd ## for read the data set\n",
    "import numpy as np ##for mathematical calculations\n",
    "import seaborn as sns ## for  data vizualization\n",
    "import matplotlib.pyplot as plt ## for data vizualization\n",
    "\n",
    "##import scikit learn library\n",
    "from sklearn.model_selection import train_test_split ## for spiliting the data\n",
    "from sklearn.pipeline import make_pipeline #make pipeline\n",
    "\n",
    "## machine learning libary\n",
    "from sklearn.naive_bayes import GaussianNB  ## naive bayse\n",
    "from sklearn.ensemble import RandomForestClassifier ##random forest\n",
    "\n",
    "## model evaluation\n",
    "from sklearn.metrics import accuracy_score ##for accuracy_score\n",
    "from sklearn.metrics import f1_score ## for f1 score\n",
    "from sklearn.metrics import roc_curve ## for roc  curve\n",
    "from sklearn.metrics import roc_auc_score ## for roc_auc_curve\n",
    "from sklearn.metrics import classification_report #defining the final classification report "
   ]
  },
  {
   "cell_type": "code",
   "execution_count": 2,
   "id": "d39cbfe4",
   "metadata": {},
   "outputs": [],
   "source": [
    "##read all the data  by useing pandas library\n",
    "train_data1=pd.read_csv(\"aps_failure_training_set_processed_8bit.csv\")\n",
    "train_data2=pd.read_csv(\"aps_failure_training_set.csv\")\n",
    "test_data1=pd.read_csv(\"aps_failure_test_set_processed_8bit.csv\")\n",
    "test_data2=pd.read_csv(\"aps_failure_test_set.csv\")"
   ]
  },
  {
   "cell_type": "code",
   "execution_count": 3,
   "id": "4f9d4f18",
   "metadata": {},
   "outputs": [
    {
     "data": {
      "text/plain": [
       "((60000, 171), (16000, 171), (60000, 171), (16000, 171))"
      ]
     },
     "execution_count": 3,
     "metadata": {},
     "output_type": "execute_result"
    }
   ],
   "source": [
    "#shape of all the data\n",
    "train_data1.shape,test_data1.shape,train_data2.shape,test_data2.shape"
   ]
  },
  {
   "cell_type": "code",
   "execution_count": 4,
   "id": "7e818bd0",
   "metadata": {},
   "outputs": [
    {
     "data": {
      "text/plain": [
       "(152000, 171)"
      ]
     },
     "execution_count": 4,
     "metadata": {},
     "output_type": "execute_result"
    }
   ],
   "source": [
    "##combine all the data \n",
    "df1=pd.concat([train_data1,test_data1])\n",
    "df2=pd.concat([train_data2,test_data2])\n",
    "data=pd.concat([df1,df2])\n",
    "data.shape"
   ]
  },
  {
   "cell_type": "code",
   "execution_count": 5,
   "id": "7243387f",
   "metadata": {},
   "outputs": [],
   "source": [
    "# here in  ourdata there is many na value so we will convert it into nan value \n",
    "data.replace('na',np.nan,inplace=True)"
   ]
  },
  {
   "cell_type": "code",
   "execution_count": 6,
   "id": "251f4c56",
   "metadata": {
    "scrolled": false
   },
   "outputs": [],
   "source": [
    "\n",
    "# Calculating the percentage of values missing in each column of our dataset\n",
    "percent_missing= (data.isnull().sum() * 100) / len(data)\n",
    "#calclulate column which have more than 30% of missing value \n",
    "columns_to_drop = percent_missing[percent_missing > 30].index\n",
    "#drop the column which have missing value mare then 30 %\n",
    "data.drop(columns=columns_to_drop,inplace=True)"
   ]
  },
  {
   "cell_type": "code",
   "execution_count": 7,
   "id": "6fd12fb0",
   "metadata": {},
   "outputs": [
    {
     "data": {
      "text/html": [
       "<div>\n",
       "<style scoped>\n",
       "    .dataframe tbody tr th:only-of-type {\n",
       "        vertical-align: middle;\n",
       "    }\n",
       "\n",
       "    .dataframe tbody tr th {\n",
       "        vertical-align: top;\n",
       "    }\n",
       "\n",
       "    .dataframe thead th {\n",
       "        text-align: right;\n",
       "    }\n",
       "</style>\n",
       "<table border=\"1\" class=\"dataframe\">\n",
       "  <thead>\n",
       "    <tr style=\"text-align: right;\">\n",
       "      <th></th>\n",
       "      <th>class</th>\n",
       "      <th>aa_000</th>\n",
       "      <th>ac_000</th>\n",
       "      <th>ad_000</th>\n",
       "      <th>ae_000</th>\n",
       "      <th>af_000</th>\n",
       "      <th>ag_000</th>\n",
       "      <th>ag_001</th>\n",
       "      <th>ag_002</th>\n",
       "      <th>ag_003</th>\n",
       "      <th>...</th>\n",
       "      <th>ee_002</th>\n",
       "      <th>ee_003</th>\n",
       "      <th>ee_004</th>\n",
       "      <th>ee_005</th>\n",
       "      <th>ee_006</th>\n",
       "      <th>ee_007</th>\n",
       "      <th>ee_008</th>\n",
       "      <th>ee_009</th>\n",
       "      <th>ef_000</th>\n",
       "      <th>eg_000</th>\n",
       "    </tr>\n",
       "  </thead>\n",
       "  <tbody>\n",
       "    <tr>\n",
       "      <th>0</th>\n",
       "      <td>-0.992188</td>\n",
       "      <td>0.117188</td>\n",
       "      <td>0.992188</td>\n",
       "      <td>-0.007812</td>\n",
       "      <td>-0.046875</td>\n",
       "      <td>-0.054688</td>\n",
       "      <td>-0.007812</td>\n",
       "      <td>-0.03125</td>\n",
       "      <td>-0.054688</td>\n",
       "      <td>-0.117188</td>\n",
       "      <td>...</td>\n",
       "      <td>0.6875</td>\n",
       "      <td>0.515625</td>\n",
       "      <td>0.234375</td>\n",
       "      <td>0.070312</td>\n",
       "      <td>0.007812</td>\n",
       "      <td>-0.109375</td>\n",
       "      <td>-0.140625</td>\n",
       "      <td>-0.171875</td>\n",
       "      <td>-0.023438</td>\n",
       "      <td>-0.023438</td>\n",
       "    </tr>\n",
       "    <tr>\n",
       "      <th>1</th>\n",
       "      <td>-0.992188</td>\n",
       "      <td>-0.179688</td>\n",
       "      <td>-0.46875</td>\n",
       "      <td>-0.007812</td>\n",
       "      <td>-0.046875</td>\n",
       "      <td>-0.054688</td>\n",
       "      <td>-0.007812</td>\n",
       "      <td>-0.03125</td>\n",
       "      <td>-0.054688</td>\n",
       "      <td>-0.117188</td>\n",
       "      <td>...</td>\n",
       "      <td>-0.023438</td>\n",
       "      <td>-0.0625</td>\n",
       "      <td>-0.132812</td>\n",
       "      <td>-0.132812</td>\n",
       "      <td>-0.1875</td>\n",
       "      <td>-0.148438</td>\n",
       "      <td>-0.085938</td>\n",
       "      <td>-0.140625</td>\n",
       "      <td>-0.023438</td>\n",
       "      <td>-0.023438</td>\n",
       "    </tr>\n",
       "    <tr>\n",
       "      <th>2</th>\n",
       "      <td>-0.992188</td>\n",
       "      <td>-0.125000</td>\n",
       "      <td>-0.46875</td>\n",
       "      <td>-0.007812</td>\n",
       "      <td>-0.046875</td>\n",
       "      <td>-0.054688</td>\n",
       "      <td>-0.007812</td>\n",
       "      <td>-0.03125</td>\n",
       "      <td>-0.054688</td>\n",
       "      <td>-0.117188</td>\n",
       "      <td>...</td>\n",
       "      <td>-0.140625</td>\n",
       "      <td>-0.09375</td>\n",
       "      <td>-0.015625</td>\n",
       "      <td>0.015625</td>\n",
       "      <td>-0.007812</td>\n",
       "      <td>-0.109375</td>\n",
       "      <td>-0.09375</td>\n",
       "      <td>-0.164062</td>\n",
       "      <td>-0.023438</td>\n",
       "      <td>-0.023438</td>\n",
       "    </tr>\n",
       "    <tr>\n",
       "      <th>3</th>\n",
       "      <td>-0.992188</td>\n",
       "      <td>-0.406250</td>\n",
       "      <td>-0.46875</td>\n",
       "      <td>-0.007812</td>\n",
       "      <td>-0.046875</td>\n",
       "      <td>-0.007812</td>\n",
       "      <td>-0.007812</td>\n",
       "      <td>-0.03125</td>\n",
       "      <td>-0.054688</td>\n",
       "      <td>-0.117188</td>\n",
       "      <td>...</td>\n",
       "      <td>-0.382812</td>\n",
       "      <td>-0.382812</td>\n",
       "      <td>-0.375</td>\n",
       "      <td>-0.351562</td>\n",
       "      <td>-0.3125</td>\n",
       "      <td>-0.195312</td>\n",
       "      <td>-0.304688</td>\n",
       "      <td>-0.171875</td>\n",
       "      <td>0.890625</td>\n",
       "      <td>0.992188</td>\n",
       "    </tr>\n",
       "    <tr>\n",
       "      <th>4</th>\n",
       "      <td>-0.992188</td>\n",
       "      <td>0.007812</td>\n",
       "      <td>-0.46875</td>\n",
       "      <td>-0.007812</td>\n",
       "      <td>-0.046875</td>\n",
       "      <td>-0.054688</td>\n",
       "      <td>-0.007812</td>\n",
       "      <td>-0.03125</td>\n",
       "      <td>-0.054688</td>\n",
       "      <td>-0.117188</td>\n",
       "      <td>...</td>\n",
       "      <td>0.15625</td>\n",
       "      <td>0.03125</td>\n",
       "      <td>-0.03125</td>\n",
       "      <td>-0.039062</td>\n",
       "      <td>-0.046875</td>\n",
       "      <td>-0.015625</td>\n",
       "      <td>0.65625</td>\n",
       "      <td>-0.148438</td>\n",
       "      <td>-0.023438</td>\n",
       "      <td>-0.023438</td>\n",
       "    </tr>\n",
       "    <tr>\n",
       "      <th>...</th>\n",
       "      <td>...</td>\n",
       "      <td>...</td>\n",
       "      <td>...</td>\n",
       "      <td>...</td>\n",
       "      <td>...</td>\n",
       "      <td>...</td>\n",
       "      <td>...</td>\n",
       "      <td>...</td>\n",
       "      <td>...</td>\n",
       "      <td>...</td>\n",
       "      <td>...</td>\n",
       "      <td>...</td>\n",
       "      <td>...</td>\n",
       "      <td>...</td>\n",
       "      <td>...</td>\n",
       "      <td>...</td>\n",
       "      <td>...</td>\n",
       "      <td>...</td>\n",
       "      <td>...</td>\n",
       "      <td>...</td>\n",
       "      <td>...</td>\n",
       "    </tr>\n",
       "    <tr>\n",
       "      <th>15995</th>\n",
       "      <td>neg</td>\n",
       "      <td>81852.000000</td>\n",
       "      <td>2130706432</td>\n",
       "      <td>892</td>\n",
       "      <td>0</td>\n",
       "      <td>0</td>\n",
       "      <td>0</td>\n",
       "      <td>0</td>\n",
       "      <td>0</td>\n",
       "      <td>0</td>\n",
       "      <td>...</td>\n",
       "      <td>632658</td>\n",
       "      <td>273242</td>\n",
       "      <td>510354</td>\n",
       "      <td>373918</td>\n",
       "      <td>349840</td>\n",
       "      <td>317840</td>\n",
       "      <td>960024</td>\n",
       "      <td>25566</td>\n",
       "      <td>0</td>\n",
       "      <td>0</td>\n",
       "    </tr>\n",
       "    <tr>\n",
       "      <th>15996</th>\n",
       "      <td>neg</td>\n",
       "      <td>18.000000</td>\n",
       "      <td>52</td>\n",
       "      <td>46</td>\n",
       "      <td>8</td>\n",
       "      <td>26</td>\n",
       "      <td>0</td>\n",
       "      <td>0</td>\n",
       "      <td>0</td>\n",
       "      <td>0</td>\n",
       "      <td>...</td>\n",
       "      <td>266</td>\n",
       "      <td>44</td>\n",
       "      <td>46</td>\n",
       "      <td>14</td>\n",
       "      <td>2</td>\n",
       "      <td>0</td>\n",
       "      <td>0</td>\n",
       "      <td>0</td>\n",
       "      <td>0</td>\n",
       "      <td>0</td>\n",
       "    </tr>\n",
       "    <tr>\n",
       "      <th>15997</th>\n",
       "      <td>neg</td>\n",
       "      <td>79636.000000</td>\n",
       "      <td>1670</td>\n",
       "      <td>1518</td>\n",
       "      <td>0</td>\n",
       "      <td>0</td>\n",
       "      <td>0</td>\n",
       "      <td>0</td>\n",
       "      <td>0</td>\n",
       "      <td>0</td>\n",
       "      <td>...</td>\n",
       "      <td>806832</td>\n",
       "      <td>449962</td>\n",
       "      <td>778826</td>\n",
       "      <td>581558</td>\n",
       "      <td>375498</td>\n",
       "      <td>222866</td>\n",
       "      <td>358934</td>\n",
       "      <td>19548</td>\n",
       "      <td>0</td>\n",
       "      <td>0</td>\n",
       "    </tr>\n",
       "    <tr>\n",
       "      <th>15998</th>\n",
       "      <td>neg</td>\n",
       "      <td>110.000000</td>\n",
       "      <td>36</td>\n",
       "      <td>32</td>\n",
       "      <td>0</td>\n",
       "      <td>0</td>\n",
       "      <td>0</td>\n",
       "      <td>0</td>\n",
       "      <td>0</td>\n",
       "      <td>0</td>\n",
       "      <td>...</td>\n",
       "      <td>588</td>\n",
       "      <td>210</td>\n",
       "      <td>180</td>\n",
       "      <td>544</td>\n",
       "      <td>1004</td>\n",
       "      <td>1338</td>\n",
       "      <td>74</td>\n",
       "      <td>0</td>\n",
       "      <td>0</td>\n",
       "      <td>0</td>\n",
       "    </tr>\n",
       "    <tr>\n",
       "      <th>15999</th>\n",
       "      <td>neg</td>\n",
       "      <td>8.000000</td>\n",
       "      <td>6</td>\n",
       "      <td>4</td>\n",
       "      <td>2</td>\n",
       "      <td>2</td>\n",
       "      <td>0</td>\n",
       "      <td>0</td>\n",
       "      <td>0</td>\n",
       "      <td>0</td>\n",
       "      <td>...</td>\n",
       "      <td>46</td>\n",
       "      <td>10</td>\n",
       "      <td>48</td>\n",
       "      <td>14</td>\n",
       "      <td>42</td>\n",
       "      <td>46</td>\n",
       "      <td>0</td>\n",
       "      <td>0</td>\n",
       "      <td>0</td>\n",
       "      <td>0</td>\n",
       "    </tr>\n",
       "  </tbody>\n",
       "</table>\n",
       "<p>152000 rows × 163 columns</p>\n",
       "</div>"
      ],
      "text/plain": [
       "          class        aa_000      ac_000    ad_000    ae_000    af_000  \\\n",
       "0     -0.992188      0.117188    0.992188 -0.007812 -0.046875 -0.054688   \n",
       "1     -0.992188     -0.179688    -0.46875 -0.007812 -0.046875 -0.054688   \n",
       "2     -0.992188     -0.125000    -0.46875 -0.007812 -0.046875 -0.054688   \n",
       "3     -0.992188     -0.406250    -0.46875 -0.007812 -0.046875 -0.007812   \n",
       "4     -0.992188      0.007812    -0.46875 -0.007812 -0.046875 -0.054688   \n",
       "...         ...           ...         ...       ...       ...       ...   \n",
       "15995       neg  81852.000000  2130706432       892         0         0   \n",
       "15996       neg     18.000000          52        46         8        26   \n",
       "15997       neg  79636.000000        1670      1518         0         0   \n",
       "15998       neg    110.000000          36        32         0         0   \n",
       "15999       neg      8.000000           6         4         2         2   \n",
       "\n",
       "         ag_000   ag_001    ag_002    ag_003  ...    ee_002    ee_003  \\\n",
       "0     -0.007812 -0.03125 -0.054688 -0.117188  ...    0.6875  0.515625   \n",
       "1     -0.007812 -0.03125 -0.054688 -0.117188  ... -0.023438   -0.0625   \n",
       "2     -0.007812 -0.03125 -0.054688 -0.117188  ... -0.140625  -0.09375   \n",
       "3     -0.007812 -0.03125 -0.054688 -0.117188  ... -0.382812 -0.382812   \n",
       "4     -0.007812 -0.03125 -0.054688 -0.117188  ...   0.15625   0.03125   \n",
       "...         ...      ...       ...       ...  ...       ...       ...   \n",
       "15995         0        0         0         0  ...    632658    273242   \n",
       "15996         0        0         0         0  ...       266        44   \n",
       "15997         0        0         0         0  ...    806832    449962   \n",
       "15998         0        0         0         0  ...       588       210   \n",
       "15999         0        0         0         0  ...        46        10   \n",
       "\n",
       "         ee_004    ee_005    ee_006    ee_007    ee_008    ee_009    ef_000  \\\n",
       "0      0.234375  0.070312  0.007812 -0.109375 -0.140625 -0.171875 -0.023438   \n",
       "1     -0.132812 -0.132812   -0.1875 -0.148438 -0.085938 -0.140625 -0.023438   \n",
       "2     -0.015625  0.015625 -0.007812 -0.109375  -0.09375 -0.164062 -0.023438   \n",
       "3        -0.375 -0.351562   -0.3125 -0.195312 -0.304688 -0.171875  0.890625   \n",
       "4      -0.03125 -0.039062 -0.046875 -0.015625   0.65625 -0.148438 -0.023438   \n",
       "...         ...       ...       ...       ...       ...       ...       ...   \n",
       "15995    510354    373918    349840    317840    960024     25566         0   \n",
       "15996        46        14         2         0         0         0         0   \n",
       "15997    778826    581558    375498    222866    358934     19548         0   \n",
       "15998       180       544      1004      1338        74         0         0   \n",
       "15999        48        14        42        46         0         0         0   \n",
       "\n",
       "         eg_000  \n",
       "0     -0.023438  \n",
       "1     -0.023438  \n",
       "2     -0.023438  \n",
       "3      0.992188  \n",
       "4     -0.023438  \n",
       "...         ...  \n",
       "15995         0  \n",
       "15996         0  \n",
       "15997         0  \n",
       "15998         0  \n",
       "15999         0  \n",
       "\n",
       "[152000 rows x 163 columns]"
      ]
     },
     "execution_count": 7,
     "metadata": {},
     "output_type": "execute_result"
    }
   ],
   "source": [
    "data"
   ]
  },
  {
   "cell_type": "code",
   "execution_count": 8,
   "id": "602bc272",
   "metadata": {},
   "outputs": [],
   "source": [
    "co=data.columns"
   ]
  },
  {
   "cell_type": "code",
   "execution_count": 9,
   "id": "e014f0c7",
   "metadata": {},
   "outputs": [],
   "source": [
    "#here we will prepare our label_data\n",
    "data['class'].replace(to_replace=(-0.9921875,0.9921875),value=(0,1),inplace=True)\n",
    "data['class'].replace(to_replace=['neg','pos'],value=(0,1),inplace=True)"
   ]
  },
  {
   "cell_type": "code",
   "execution_count": 10,
   "id": "a6406c52",
   "metadata": {},
   "outputs": [],
   "source": [
    "#replace all missing value by 0\n",
    "data.fillna(0,inplace=True)"
   ]
  },
  {
   "cell_type": "code",
   "execution_count": 11,
   "id": "4676407a",
   "metadata": {},
   "outputs": [],
   "source": [
    "#split our data in features and label\n",
    "x=data.drop(columns=['class'])\n",
    "y=data['class']"
   ]
  },
  {
   "cell_type": "code",
   "execution_count": 12,
   "id": "95273789",
   "metadata": {},
   "outputs": [
    {
     "name": "stderr",
     "output_type": "stream",
     "text": [
      "C:\\Users\\kabir\\anaconda3\\lib\\site-packages\\seaborn\\_decorators.py:36: FutureWarning: Pass the following variable as a keyword arg: x. From version 0.12, the only valid positional argument will be `data`, and passing other arguments without an explicit keyword will result in an error or misinterpretation.\n",
      "  warnings.warn(\n"
     ]
    },
    {
     "data": {
      "text/plain": [
       "<AxesSubplot:xlabel='class', ylabel='count'>"
      ]
     },
     "execution_count": 12,
     "metadata": {},
     "output_type": "execute_result"
    },
    {
     "data": {
      "image/png": "[encoded data removed]",
      "text/plain": [
       "<Figure size 432x288 with 1 Axes>"
      ]
     },
     "metadata": {
      "needs_background": "light"
     },
     "output_type": "display_data"
    }
   ],
   "source": [
    "# vizalizations of our labels\n",
    "sns.countplot(y)"
   ]
  },
  {
   "cell_type": "code",
   "execution_count": 13,
   "id": "c40b2fc2",
   "metadata": {},
   "outputs": [],
   "source": [
    "x_train,x_test,y_train,y_test=train_test_split(x,y,test_size=0.1,random_state=42)"
   ]
  },
  {
   "cell_type": "code",
   "execution_count": 23,
   "id": "8d85f9c4",
   "metadata": {},
   "outputs": [],
   "source": [
    "pipe=make_pipeline(GaussianNB())\n",
    "pipe.fit(x_train,y_train)\n",
    "y_pred=pipe.predict(x_test)\n"
   ]
  },
  {
   "cell_type": "code",
   "execution_count": 24,
   "id": "392e6dde",
   "metadata": {},
   "outputs": [
    {
     "name": "stdout",
     "output_type": "stream",
     "text": [
      "              precision    recall  f1-score   support\n",
      "\n",
      "           0       0.97      0.99      0.98     14683\n",
      "           1       0.50      0.26      0.34       517\n",
      "\n",
      "    accuracy                           0.97     15200\n",
      "   macro avg       0.74      0.63      0.66     15200\n",
      "weighted avg       0.96      0.97      0.96     15200\n",
      "\n"
     ]
    }
   ],
   "source": [
    "from sklearn.metrics import classification_report\n",
    "print(classification_report(y_pred,y_test))"
   ]
  },
  {
   "cell_type": "code",
   "execution_count": 27,
   "id": "b3a6b32e",
   "metadata": {},
   "outputs": [],
   "source": [
    "from dask.diagnostics import ProgressBar"
   ]
  },
  {
   "cell_type": "code",
   "execution_count": 28,
   "id": "a5449d8d",
   "metadata": {},
   "outputs": [],
   "source": [
    "with ProgressBar():\n",
    "    pipe=make_pipeline(RandomForestClassifier(n_estimators=150))\n",
    "    pipe.fit(x_train,y_train)\n",
    "    y_pred=pipe.predict(x_test)"
   ]
  },
  {
   "cell_type": "code",
   "execution_count": 29,
   "id": "2c2deb47",
   "metadata": {},
   "outputs": [
    {
     "name": "stdout",
     "output_type": "stream",
     "text": [
      "              precision    recall  f1-score   support\n",
      "\n",
      "           0       1.00      0.99      1.00     14987\n",
      "           1       0.70      0.89      0.79       213\n",
      "\n",
      "    accuracy                           0.99     15200\n",
      "   macro avg       0.85      0.94      0.89     15200\n",
      "weighted avg       0.99      0.99      0.99     15200\n",
      "\n"
     ]
    }
   ],
   "source": [
    "print(classification_report(y_pred,y_test))"
   ]
  }
 ],
 "metadata": {
  "kernelspec": {
   "display_name": "Python 3",
   "language": "python",
   "name": "python3"
  },
  "language_info": {
   "codemirror_mode": {
    "name": "ipython",
    "version": 3
   },
   "file_extension": ".py",
   "mimetype": "text/x-python",
   "name": "python",
   "nbconvert_exporter": "python",
   "pygments_lexer": "ipython3",
   "version": "3.8.8"
  }
 },
 "nbformat": 4,
 "nbformat_minor": 5
}
